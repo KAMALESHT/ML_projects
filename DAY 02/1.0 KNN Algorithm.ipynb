{
 "cells": [
  {
   "cell_type": "code",
   "execution_count": 1,
   "metadata": {},
   "outputs": [],
   "source": [
    "# Rain or No Rain Problem\n",
    "import numpy as np\n",
    "\n",
    "#Temp,Humidity,label\n",
    "\n",
    "dataset=np.array([[28,80,1],\n",
    "                 [35,60,0],\n",
    "                 [37,50,0],\n",
    "                 [25,90,1],\n",
    "                 [38,68,0],\n",
    "                 [33,77,0],\n",
    "                  [21,88,1],\n",
    "                 [29,75,0],\n",
    "                 [28,82,1],\n",
    "                 [32,65,0]])"
   ]
  },
  {
   "cell_type": "code",
   "execution_count": null,
   "metadata": {},
   "outputs": [],
   "source": []
  }
 ],
 "metadata": {
  "kernelspec": {
   "display_name": "Python 3",
   "language": "python",
   "name": "python3"
  },
  "language_info": {
   "codemirror_mode": {
    "name": "ipython",
    "version": 3
   },
   "file_extension": ".py",
   "mimetype": "text/x-python",
   "name": "python",
   "nbconvert_exporter": "python",
   "pygments_lexer": "ipython3",
   "version": "3.7.4"
  }
 },
 "nbformat": 4,
 "nbformat_minor": 2
}
